{
 "cells": [
  {
   "cell_type": "code",
   "execution_count": 2,
   "metadata": {},
   "outputs": [],
   "source": [
    "import json \n",
    "import pandas as pd"
   ]
  },
  {
   "cell_type": "code",
   "execution_count": 3,
   "metadata": {},
   "outputs": [],
   "source": [
    "def filte_data(data: dict) -> dict:\n",
    "    filter = False\n",
    "    if data['details']['Date First Available'] < 2022:\n",
    "        filter = True\n"
   ]
  },
  {
   "cell_type": "code",
   "metadata": {},
   "outputs": [],
   "source": "input_file = open(\"../data/meta_Electronics.jsonl\", 'r') \ngood_file =  open(\"../data/meta_Electronics_2022_2023.jsonl\", 'a', encoding='utf-8') \nbad_file = open(\"../data/meta_Electronics_2022_2023_no_date.jsonl\", 'a', encoding='utf-8') \n\ntry:\n    i= 0\n    for line in input_file:\n        data = json.loads(line.strip())\n        try:\n            filter = filte_data(data)\n            if not filter:\n                json.dump(data, good_file)\n                good_file.write('\\n')\n                good_file.flush()\n        except:\n            json.dump(data, bad_file)\n            bad_file.write('\\n')\n            bad_file.flush()\n        i = i + 1\n        \n        if i % 100000 == 0:\n            print(f\"Processed {i} lines\")\nfinally:\n    input_file.close()\n    good_file.close()\n    bad_file.close()"
  },
  {
   "cell_type": "code",
   "execution_count": 4,
   "metadata": {},
   "outputs": [],
   "source": [
    "def filter_category(data: dict) -> dict:\n",
    "    filter = False\n",
    "    if data['main_category'] == None:\n",
    "        filter = True\n",
    "    return filter"
   ]
  },
  {
   "cell_type": "code",
   "execution_count": null,
   "metadata": {},
   "outputs": [],
   "source": [
    "input_file = open()"
   ]
  }
 ],
 "metadata": {
  "kernelspec": {
   "display_name": ".venv",
   "language": "python",
   "name": "python3"
  },
  "language_info": {
   "codemirror_mode": {
    "name": "ipython",
    "version": 3
   },
   "file_extension": ".py",
   "mimetype": "text/x-python",
   "name": "python",
   "nbconvert_exporter": "python",
   "pygments_lexer": "ipython3",
   "version": "3.12.1"
  }
 },
 "nbformat": 4,
 "nbformat_minor": 2
}