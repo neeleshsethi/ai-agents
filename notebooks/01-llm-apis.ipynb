{
 "cells": [
  {
   "cell_type": "code",
   "execution_count": 1,
   "metadata": {},
   "outputs": [
    {
     "name": "stdout",
     "output_type": "stream",
     "text": [
      "Hello\n"
     ]
    }
   ],
   "source": [
    "print(\"Hello\")"
   ]
  },
  {
   "cell_type": "code",
   "execution_count": 19,
   "metadata": {},
   "outputs": [],
   "source": [
    "import openai\n",
    "import os\n",
    "\n",
    "api_key = os.getenv(\"OPENAI_API_KEY\")\n",
    "if not api_key:\n",
    "    api_key = input(\"Please enter your open ai api key\").strip()\n",
    "    os.environ[\"OPENAI_API_KEY\"] = api_key\n",
    "    if not api_key:\n",
    "        raise EnvironmentError(\"No API Key provided\")"
   ]
  },
  {
   "cell_type": "code",
   "execution_count": 9,
   "metadata": {},
   "outputs": [],
   "source": [
    "import openai\n",
    "import os\n",
    "\n",
    "api_key = os.getenv(\"GOOGLE_API_KEY\")\n",
    "if not api_key:\n",
    "    api_key = input(\"Please enter your open ai api key\").strip()\n",
    "    os.environ[\"GOOGLE_API_KEY\"] = api_key\n",
    "    if not api_key:\n",
    "        raise EnvironmentError(\"No API Key provided\")"
   ]
  },
  {
   "cell_type": "code",
   "execution_count": null,
   "metadata": {},
   "outputs": [],
   "source": [
    "\n",
    "import os\n",
    "\n",
    "api_key = os.getenv(\"ANTHROPIC_API_KEY\")\n",
    "if not api_key:\n",
    "    api_key = input(\"Please enter your anthropic ai api key\").strip()\n",
    "    os.environ[\"ANTHROPIC_API_KEY\"] = api_key\n",
    "    if not api_key:\n",
    "        raise EnvironmentError(\"No API Key provided\")"
   ]
  },
  {
   "cell_type": "code",
   "execution_count": 14,
   "metadata": {},
   "outputs": [],
   "source": [
    "\n",
    "api_key = os.getenv(\"GRQQ_API_KEY\")\n",
    "if not api_key:\n",
    "    api_key = input(\"Please enter your open ai api key\").strip()\n",
    "    os.environ[\"GRQQ_API_KEY\"] = api_key\n",
    "    if not api_key:\n",
    "        raise EnvironmentError(\"No API Key provided\")"
   ]
  },
  {
   "cell_type": "code",
   "execution_count": 10,
   "metadata": {},
   "outputs": [
    {
     "data": {
      "text/plain": [
       "'Sure! Here are 10 random words:\\n\\n1. Quokka\\n2. Umbrella\\n3. Cascade\\n4. Reverie\\n5. Jigsaw\\n6. Luminous\\n7. Thistle\\n8. Enigma\\n9. Kettle\\n10. Whimsical\\n\\nLet me know if you need anything else!'"
      ]
     },
     "execution_count": 10,
     "metadata": {},
     "output_type": "execute_result"
    }
   ],
   "source": [
    "response = openai.chat.completions.create(\n",
    "    model=\"gpt-4o-mini\",\n",
    "    messages=[\n",
    "    {'role': \"system\", \"content\": \"You are helpful assistant\"},\n",
    "    {'role': \"user\", \"content\": \"Print 10 random words\"}\n",
    "\n",
    "\n",
    "    ]\n",
    ")\n",
    "\n",
    "response.choices[0].message.content"
   ]
  },
  {
   "cell_type": "code",
   "execution_count": null,
   "metadata": {},
   "outputs": [
    {
     "name": "stdout",
     "output_type": "stream",
     "text": [
      "The capital of France is **Paris**.\n",
      "\n"
     ]
    }
   ],
   "source": [
    "from google import genai\n",
    "\n",
    "gemini_client = genai.Client(api_key=os.getenv('GOOGLE_API_KEY'))\n",
    "\n",
    "response = gemini_client.models.generate_content(\n",
    "    model=\"gemini-2.0-flash\",\n",
    "    contents=[\"what is capital of france\"]\n",
    ")\n",
    "\n",
    "print(response.text)"
   ]
  },
  {
   "cell_type": "code",
   "execution_count": 16,
   "metadata": {},
   "outputs": [],
   "source": [
    "\n",
    "\n",
    "api_key = os.getenv(\"GROQ_API_KEY\")\n",
    "if not api_key:\n",
    "    api_key = input(\"Please enter your open ai api key\").strip()\n",
    "    os.environ[\"GROQ_API_KEY\"] = api_key\n",
    "    if not api_key:\n",
    "        raise EnvironmentError(\"No API Key provided\")"
   ]
  },
  {
   "cell_type": "code",
   "execution_count": 17,
   "metadata": {},
   "outputs": [
    {
     "data": {
      "text/plain": [
       "'1. Space\\n2. Guitar\\n3. Coffee\\n4. Library\\n5. Bicycle\\n6. Computer\\n7. Fountain\\n8. Butterfly\\n9. Harmonica\\n10. Snowflake'"
      ]
     },
     "execution_count": 17,
     "metadata": {},
     "output_type": "execute_result"
    }
   ],
   "source": [
    "from groq import Groq\n",
    "client = Groq(api_key=os.environ.get(\"GROQ_API_KEY\"))\n",
    "\n",
    "response = client.chat.completions.create(\n",
    "    model=\"llama-3.3-70b-versatile\",\n",
    "    messages=[\n",
    "    {'role': \"system\", \"content\": \"You are helpful assistant\"},\n",
    "    {'role': \"user\", \"content\": \"Print 10 random words\"}\n",
    "\n",
    "\n",
    "    ]\n",
    ")\n",
    "\n",
    "response.choices[0].message.content\n"
   ]
  },
  {
   "cell_type": "code",
   "execution_count": null,
   "metadata": {},
   "outputs": [],
   "source": []
  }
 ],
 "metadata": {
  "kernelspec": {
   "display_name": ".venv",
   "language": "python",
   "name": "python3"
  },
  "language_info": {
   "codemirror_mode": {
    "name": "ipython",
    "version": 3
   },
   "file_extension": ".py",
   "mimetype": "text/x-python",
   "name": "python",
   "nbconvert_exporter": "python",
   "pygments_lexer": "ipython3",
   "version": "3.12.1"
  }
 },
 "nbformat": 4,
 "nbformat_minor": 2
}
